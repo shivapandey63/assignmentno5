{
 "cells": [
  {
   "cell_type": "markdown",
   "id": "c9991e5d-0ced-4668-946c-cffbc61368c7",
   "metadata": {},
   "source": [
    "#answer 1\n",
    "\n",
    "Almost everything in Python is an object, with its properties and methods.\n",
    "A Class is like an object constructor, or a \"blueprint\" for creating objects.\n",
    "For example, suppose Bike is a class then we can create objects like bike1 ,\n",
    "bike2 , etc from the class. Here's the syntax to create an object. objectName = ClassName()"
   ]
  },
  {
   "cell_type": "markdown",
   "id": "a13718a2-260a-4313-987e-26d08260c836",
   "metadata": {},
   "source": [
    "Answer 2\n",
    "\n",
    "Four pillars of OOPS are:\n",
    "-Inheritance\n",
    "-Polymorphism -\n",
    "-Encapsulation\n",
    "-Abstraction"
   ]
  },
  {
   "cell_type": "markdown",
   "id": "846ea3e6-dac6-42ba-8056-4ed11a5bafb5",
   "metadata": {},
   "source": [
    "#Answer 3\n",
    "\n",
    "The __init__ function is called every time an object is created from a class.\n",
    "The __init__ method lets the class initialize the object's attributes and serves no other purpose. It is only used within classes"
   ]
  },
  {
   "cell_type": "markdown",
   "id": "c48cb3b0-95a3-4613-b766-b71a8c3037f5",
   "metadata": {},
   "source": [
    "#Answer 4\n",
    "\n",
    "The self parameter is a reference to the current instance of the class, and is used to access variables that belongs to the class."
   ]
  },
  {
   "cell_type": "markdown",
   "id": "c0c17d1a-0633-4c2f-bcf9-8cf6eb7d62a3",
   "metadata": {},
   "source": [
    "#Answer 5\n",
    "\n",
    "Inheritance is defined as the mechanism of inheriting the properties of the base class to the child class.\n",
    "Types:\n",
    "    1) Single level\n",
    "    2) Multi level\n",
    "    3) Multi list\n",
    "    "
   ]
  }
 ],
 "metadata": {
  "kernelspec": {
   "display_name": "Python 3 (ipykernel)",
   "language": "python",
   "name": "python3"
  },
  "language_info": {
   "codemirror_mode": {
    "name": "ipython",
    "version": 3
   },
   "file_extension": ".py",
   "mimetype": "text/x-python",
   "name": "python",
   "nbconvert_exporter": "python",
   "pygments_lexer": "ipython3",
   "version": "3.10.8"
  }
 },
 "nbformat": 4,
 "nbformat_minor": 5
}
